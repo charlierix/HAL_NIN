{
 "cells": [
  {
   "cell_type": "markdown",
   "metadata": {},
   "source": [
    "# Base Folder"
   ]
  },
  {
   "cell_type": "code",
   "execution_count": 10,
   "metadata": {},
   "outputs": [],
   "source": [
    "import os\n",
    "\n",
    "BASE_FOLDER = '2024-07-15 22-29-45'\n",
    "\n",
    "base_folder = os.path.join('output', BASE_FOLDER)"
   ]
  },
  {
   "cell_type": "markdown",
   "metadata": {},
   "source": [
    "### Read Files"
   ]
  },
  {
   "cell_type": "code",
   "execution_count": 11,
   "metadata": {},
   "outputs": [],
   "source": [
    "import json\n",
    "\n",
    "class Word:\n",
    "    def __init__(self, word_json, filename):\n",
    "        name, _ = os.path.splitext(os.path.basename(filename))\n",
    "\n",
    "        self.file_index = int(name)\n",
    "        self.probability = word_json['probability']\n",
    "        self.word = word_json['word']\n",
    "\n",
    "def parse_json(filename):\n",
    "    retVal = []\n",
    "\n",
    "    with open(filename, 'r') as f:\n",
    "        log = json.load(f)\n",
    "\n",
    "    for word in log['words']:\n",
    "        retVal.append(Word(word, filename))\n",
    "    \n",
    "    return retVal"
   ]
  },
  {
   "cell_type": "code",
   "execution_count": 12,
   "metadata": {},
   "outputs": [],
   "source": [
    "folder_dict = {}\n",
    "\n",
    "for span_bool in os.listdir(base_folder):\n",
    "    sb_split = span_bool.split()\n",
    "    #key = (int(sb_split[0]), bool(sb_split[1]))        # boo() of any string other than empty string is True\n",
    "    key = (int(sb_split[0]), sb_split[1] == 'True')\n",
    "    #print(str(key))\n",
    "\n",
    "    words = []\n",
    "\n",
    "    foldername = os.path.join(base_folder, span_bool)\n",
    "    for filename in os.listdir(foldername):\n",
    "        if filename.endswith('.json'):\n",
    "            words.extend(parse_json(os.path.join(foldername, filename)))\n",
    "    \n",
    "    folder_dict[key] = sorted(words, key=lambda o: o.file_index)"
   ]
  },
  {
   "cell_type": "markdown",
   "metadata": {},
   "source": [
    "### Color Printing"
   ]
  },
  {
   "cell_type": "code",
   "execution_count": 13,
   "metadata": {},
   "outputs": [
    {
     "data": {
      "text/html": [
       "<span style=\"color:#FF0000\">there</span>"
      ],
      "text/plain": [
       "<IPython.core.display.HTML object>"
      ]
     },
     "metadata": {},
     "output_type": "display_data"
    },
    {
     "data": {
      "text/html": [
       "<span style=\"color:#a50059\">calculated color</span>"
      ],
      "text/plain": [
       "<IPython.core.display.HTML object>"
      ]
     },
     "metadata": {},
     "output_type": "display_data"
    }
   ],
   "source": [
    "from IPython.display import display, HTML\n",
    "\n",
    "# fg is in the format: '#RRGGBB'.  alpha doesn't seem to be supported\n",
    "def print_colored(text, fg):\n",
    "    output = \"<span style=\\\"color:%s\\\">%s</span>\" % (fg, text)\n",
    "    display(HTML(output))\n",
    "\n",
    "# items=[(text, fg), (text, fg) ...]\n",
    "def print_colored_tuples(items):\n",
    "    output = \"\".join(\"<span style=\\\"color:%s\\\">%s</span><br>\" % (fg, text) for text, fg in items)\n",
    "    display(HTML(output))\n",
    "\n",
    "# Converts a color from hex format to rgb\n",
    "def hex_to_rgb(hex):\n",
    "    return tuple(int(hex[i:i+2], 16) for i in (0, 2, 4))\n",
    "\n",
    "# Converts a color from rgb format back to hex\n",
    "def rgb_to_hex(rgb):   \n",
    "    return '#{:02x}{:02x}{:02x}'.format(*rgb)\n",
    "\n",
    "# Linearly interpolates between two colors\n",
    "def lerp(c1, c2, pct):\n",
    "    r1, g1, b1 = hex_to_rgb(c1[1:])   # Remove '#' and convert to RGB\n",
    "    r2, g2, b2 = hex_to_rgb(c2[1:])\n",
    "    \n",
    "    r = int((r2 - r1) * pct + r1)  # Interpolate for each channel.\n",
    "    g = int((g2 - g1) * pct + g1)\n",
    "    b = int((b2 - b1) * pct + b1)\n",
    "    \n",
    "    return rgb_to_hex((r, g, b))  # Convert back to HEX and return.\n",
    "\n",
    "print_colored('there', '#FF0000')\n",
    "print_colored('calculated color', lerp('#FF0000', '#0000FF', 0.35))"
   ]
  },
  {
   "cell_type": "code",
   "execution_count": 14,
   "metadata": {},
   "outputs": [
    {
     "data": {
      "text/html": [
       "<div style=\"display:flex;\"><span style=\"width: 100%; color:red\">Hello</span><span style=\"width: 100%; color:blue\">Python</span></div><div style=\"display:flex;\"><span style=\"width: 100%; color:green\">There</span><span style=\"width: 100%; color:orange\">Development</span></div><div style=\"display:flex;\"><span style=\"width: 100%; color:black\"></span><span style=\"width: 100%; color:purple\">Fun!</span></div>"
      ],
      "text/plain": [
       "<IPython.core.display.HTML object>"
      ]
     },
     "metadata": {},
     "output_type": "display_data"
    }
   ],
   "source": [
    "# Takes an arbitrary number of lists of tuples, iterates all lists in a single pass\n",
    "# Replaces entries with ('', 'black') when the list lengths are uneven\n",
    "def zip_longest_custom(*lists):  # Takes \n",
    "    num_rows = max(map(len, lists))  # Finds the length of the longest list\n",
    "\n",
    "    for i in range(num_rows):  # Loop through the length of the longest list.\n",
    "        yield tuple(lst[i] if i < len(lst) else ('', 'black') for lst in lists)\n",
    "\n",
    "# Each column is a list of tuples:\n",
    "# col=[(text, fg), (text, fg) ...]\n",
    "def print_colored_columns(*cols):\n",
    "    # Use zip_longest instead of chain for proper handling of uneven list lengths\n",
    "    combined = zip_longest_custom(*cols)\n",
    "\n",
    "    output = \"\"\n",
    "    for row in combined:\n",
    "        html = '<div style=\"display:flex;\">'\n",
    "\n",
    "        for i in range(len(row)):\n",
    "            html += '<span style=\"width: 100%; color:' + row[i][1] + '\">' + row[i][0] + '</span>'\n",
    "\n",
    "        html += '</div>'       # looks like <br> isn't needed at the end of this one\n",
    "\n",
    "        output += html\n",
    "\n",
    "    display(HTML(output))\n",
    "\n",
    "col1 = [(\"Hello\", \"red\"), (\"There\", \"green\")]\n",
    "col2 = [(\"Python\", \"blue\"), (\"Development\", \"orange\"), (\"Fun!\", \"purple\")]\n",
    "print_colored_columns(col1, col2)"
   ]
  },
  {
   "cell_type": "code",
   "execution_count": 15,
   "metadata": {},
   "outputs": [],
   "source": [
    "def get_words_to_colortuple(words):\n",
    "    items = []\n",
    "\n",
    "    for word in words:\n",
    "        items.append((word.word, lerp('#000000', '#FFFFFF', word.probability)))\n",
    "\n",
    "    return items"
   ]
  },
  {
   "cell_type": "markdown",
   "metadata": {},
   "source": [
    "# All Columns"
   ]
  },
  {
   "cell_type": "code",
   "execution_count": 18,
   "metadata": {},
   "outputs": [
    {
     "data": {
      "text/html": [
       "<div style=\"display:flex;\"><span style=\"width: 100%; color:#eeeeee\"> If</span><span style=\"width: 100%; color:#f2f2f2\"> If</span><span style=\"width: 100%; color:#f0f0f0\"> If</span><span style=\"width: 100%; color:#f5f5f5\"> If</span><span style=\"width: 100%; color:#f3f3f3\"> If</span><span style=\"width: 100%; color:#f3f3f3\"> If</span></div><div style=\"display:flex;\"><span style=\"width: 100%; color:#fdfdfd\"> the</span><span style=\"width: 100%; color:#fdfdfd\"> the</span><span style=\"width: 100%; color:#fdfdfd\"> the</span><span style=\"width: 100%; color:#fefefe\"> the</span><span style=\"width: 100%; color:#fdfdfd\"> the</span><span style=\"width: 100%; color:#fdfdfd\"> the</span></div><div style=\"display:flex;\"><span style=\"width: 100%; color:#b2b2b2\"> objects</span><span style=\"width: 100%; color:#919191\"> object's</span><span style=\"width: 100%; color:#c8c8c8\"> objects</span><span style=\"width: 100%; color:#f3f3f3\"> objects</span><span style=\"width: 100%; color:#f5f5f5\"> objects</span><span style=\"width: 100%; color:#f9f9f9\"> objects</span></div><div style=\"display:flex;\"><span style=\"width: 100%; color:#e2e2e2\"> in</span><span style=\"width: 100%; color:#fcfcfc\"> in</span><span style=\"width: 100%; color:#dedede\"> in</span><span style=\"width: 100%; color:#fefefe\"> in</span><span style=\"width: 100%; color:#fefefe\"> in</span><span style=\"width: 100%; color:#fefefe\"> in</span></div><div style=\"display:flex;\"><span style=\"width: 100%; color:#fbfbfb\"> your</span><span style=\"width: 100%; color:#fbfbfb\"> your</span><span style=\"width: 100%; color:#f6f6f6\"> your</span><span style=\"width: 100%; color:#fefefe\"> your</span><span style=\"width: 100%; color:#fefefe\"> your</span><span style=\"width: 100%; color:#fefefe\"> your</span></div><div style=\"display:flex;\"><span style=\"width: 100%; color:#a3a3a3\"> list,</span><span style=\"width: 100%; color:#b7b7b7\"> list,</span><span style=\"width: 100%; color:#969696\"> list...</span><span style=\"width: 100%; color:#fcfcfc\"> list</span><span style=\"width: 100%; color:#fafafa\"> list</span><span style=\"width: 100%; color:#fbfbfb\"> list</span></div><div style=\"display:flex;\"><span style=\"width: 100%; color:#505050\"> to</span><span style=\"width: 100%; color:#ededed\"> to</span><span style=\"width: 100%; color:#e9e9e9\"> to</span><span style=\"width: 100%; color:#fdfdfd\"> have</span><span style=\"width: 100%; color:#fdfdfd\"> have</span><span style=\"width: 100%; color:#fdfdfd\"> have</span></div><div style=\"display:flex;\"><span style=\"width: 100%; color:#efefef\"> have</span><span style=\"width: 100%; color:#f7f7f7\"> have</span><span style=\"width: 100%; color:#f4f4f4\"> have</span><span style=\"width: 100%; color:#fcfcfc\"> attributes</span><span style=\"width: 100%; color:#fafafa\"> attributes,</span><span style=\"width: 100%; color:#fbfbfb\"> attributes,</span></div><div style=\"display:flex;\"><span style=\"width: 100%; color:#fbfbfb\"> attributes</span><span style=\"width: 100%; color:#fcfcfc\"> attributes</span><span style=\"width: 100%; color:#fcfcfc\"> attributes</span><span style=\"width: 100%; color:#5c5c5c\"> text</span><span style=\"width: 100%; color:#f6f6f6\"> text,</span><span style=\"width: 100%; color:#fafafa\"> text,</span></div><div style=\"display:flex;\"><span style=\"width: 100%; color:#c8c8c8\"> to</span><span style=\"width: 100%; color:#c4c4c4\"> text</span><span style=\"width: 100%; color:#ababab\"> text</span><span style=\"width: 100%; color:#fbfbfb\"> and</span><span style=\"width: 100%; color:#fefefe\"> and</span><span style=\"width: 100%; color:#fefefe\"> and</span></div><div style=\"display:flex;\"><span style=\"width: 100%; color:#333333\"> and</span><span style=\"width: 100%; color:#f8f8f8\"> and</span><span style=\"width: 100%; color:#fafafa\"> and</span><span style=\"width: 100%; color:#f9f9f9\"> percent,</span><span style=\"width: 100%; color:#f8f8f8\"> percent,</span><span style=\"width: 100%; color:#f8f8f8\"> percent,</span></div><div style=\"display:flex;\"><span style=\"width: 100%; color:#f5f5f5\"> percent</span><span style=\"width: 100%; color:#f9f9f9\"> percent</span><span style=\"width: 100%; color:#fafafa\"> percent,</span><span style=\"width: 100%; color:#fefefe\"> you</span><span style=\"width: 100%; color:#fefefe\"> you</span><span style=\"width: 100%; color:#fefefe\"> you</span></div><div style=\"display:flex;\"><span style=\"width: 100%; color:#939393\"> you</span><span style=\"width: 100%; color:#a3a3a3\"> you</span><span style=\"width: 100%; color:#fefefe\"> you</span><span style=\"width: 100%; color:#fefefe\"> can</span><span style=\"width: 100%; color:#fefefe\"> can</span><span style=\"width: 100%; color:#fefefe\"> can</span></div><div style=\"display:flex;\"><span style=\"width: 100%; color:#d0d0d0\"> You</span><span style=\"width: 100%; color:#cbcbcb\"> You</span><span style=\"width: 100%; color:#fefefe\"> can</span><span style=\"width: 100%; color:#fefefe\"> use</span><span style=\"width: 100%; color:#fefefe\"> use</span><span style=\"width: 100%; color:#fefefe\"> use</span></div><div style=\"display:flex;\"><span style=\"width: 100%; color:#fcfcfc\"> can</span><span style=\"width: 100%; color:#fdfdfd\"> can</span><span style=\"width: 100%; color:#fefefe\"> use</span><span style=\"width: 100%; color:#f9f9f9\"> Python's</span><span style=\"width: 100%; color:#fafafa\"> Python's</span><span style=\"width: 100%; color:#fbfbfb\"> Python's</span></div><div style=\"display:flex;\"><span style=\"width: 100%; color:#fefefe\"> use</span><span style=\"width: 100%; color:#fefefe\"> use</span><span style=\"width: 100%; color:#f4f4f4\"> Python's</span><span style=\"width: 100%; color:#fdfdfd\"> built</span><span style=\"width: 100%; color:#fcfcfc\"> built</span><span style=\"width: 100%; color:#fcfcfc\"> built</span></div><div style=\"display:flex;\"><span style=\"width: 100%; color:#d4d4d4\"> Python's</span><span style=\"width: 100%; color:#f6f6f6\"> Python's</span><span style=\"width: 100%; color:#fdfdfd\"> built</span><span style=\"width: 100%; color:#f7f7f7\">-in</span><span style=\"width: 100%; color:#f9f9f9\">-in</span><span style=\"width: 100%; color:#fafafa\">-in</span></div><div style=\"display:flex;\"><span style=\"width: 100%; color:#f5f5f5\"> built.</span><span style=\"width: 100%; color:#fdfdfd\"> built</span><span style=\"width: 100%; color:#f5f5f5\">-in</span><span style=\"width: 100%; color:#f7f7f7\"> function.</span><span style=\"width: 100%; color:#f7f7f7\"> function</span><span style=\"width: 100%; color:#fbfbfb\"> function,</span></div><div style=\"display:flex;\"><span style=\"width: 100%; color:#f2f2f2\"> function</span><span style=\"width: 100%; color:#f4f4f4\">-in</span><span style=\"width: 100%; color:#fbfbfb\"> function.</span><span style=\"width: 100%; color:#a1a1a1\"> and</span><span style=\"width: 100%; color:#3b3b3b\"> get</span><span style=\"width: 100%; color:#b0b0b0\"> get</span></div><div style=\"display:flex;\"><span style=\"width: 100%; color:#b2b2b2\"> function</span><span style=\"width: 100%; color:#fbfbfb\"> function.</span><span style=\"width: 100%; color:#dadada\"> get</span><span style=\"width: 100%; color:#d9d9d9\"> get</span><span style=\"width: 100%; color:#e3e3e3\"> attribute</span><span style=\"width: 100%; color:#c7c7c7\"> attribute</span></div><div style=\"display:flex;\"><span style=\"width: 100%; color:#646464\"> get</span><span style=\"width: 100%; color:#8a8a8a\"> get</span><span style=\"width: 100%; color:#e7e7e7\"> attribute</span><span style=\"width: 100%; color:#ebebeb\"> attribute</span><span style=\"width: 100%; color:#f9f9f9\"> to</span><span style=\"width: 100%; color:#b7b7b7\"> to</span></div><div style=\"display:flex;\"><span style=\"width: 100%; color:#f2f2f2\"> attribute.</span><span style=\"width: 100%; color:#e6e6e6\"> attribute</span><span style=\"width: 100%; color:#f5f5f5\"> to</span><span style=\"width: 100%; color:#f5f5f5\"> to</span><span style=\"width: 100%; color:#fefefe\"> access</span><span style=\"width: 100%; color:#fefefe\"> access</span></div><div style=\"display:flex;\"><span style=\"width: 100%; color:#f2f2f2\"> to</span><span style=\"width: 100%; color:#f5f5f5\"> to</span><span style=\"width: 100%; color:#fefefe\"> access</span><span style=\"width: 100%; color:#fefefe\"> access</span><span style=\"width: 100%; color:#fefefe\"> these</span><span style=\"width: 100%; color:#fefefe\"> these</span></div><div style=\"display:flex;\"><span style=\"width: 100%; color:#fdfdfd\"> access</span><span style=\"width: 100%; color:#fefefe\"> access</span><span style=\"width: 100%; color:#fefefe\"> these</span><span style=\"width: 100%; color:#fefefe\"> these</span><span style=\"width: 100%; color:#fefefe\"> attributes.</span><span style=\"width: 100%; color:#fefefe\"> attributes.</span></div><div style=\"display:flex;\"><span style=\"width: 100%; color:#fafafa\"> these.</span><span style=\"width: 100%; color:#fbfbfb\"> these.</span><span style=\"width: 100%; color:#fefefe\"> attributes.</span><span style=\"width: 100%; color:#fefefe\"> attributes.</span><span style=\"width: 100%; color:#fdfdfd\"> Here</span><span style=\"width: 100%; color:#fdfdfd\"> Here</span></div><div style=\"display:flex;\"><span style=\"width: 100%; color:#f5f5f5\"> attributes</span><span style=\"width: 100%; color:#f2f2f2\"> attributes.</span><span style=\"width: 100%; color:#fbfbfb\"> Here</span><span style=\"width: 100%; color:#fbfbfb\"> Here</span><span style=\"width: 100%; color:#fdfdfd\"> is</span><span style=\"width: 100%; color:#fefefe\"> is</span></div><div style=\"display:flex;\"><span style=\"width: 100%; color:#fbfbfb\"> here</span><span style=\"width: 100%; color:#fcfcfc\"> Here</span><span style=\"width: 100%; color:#fcfcfc\"> is</span><span style=\"width: 100%; color:#fdfdfd\"> is</span><span style=\"width: 100%; color:#e9e9e9\"> how.</span><span style=\"width: 100%; color:#eeeeee\"> how.</span></div><div style=\"display:flex;\"><span style=\"width: 100%; color:#a2a2a2\"> is</span><span style=\"width: 100%; color:#fbfbfb\"> is</span><span style=\"width: 100%; color:#f7f7f7\"> how.</span><span style=\"width: 100%; color:#f3f3f3\"> how.</span><span style=\"width: 100%; color:#fcfcfc\"> In</span><span style=\"width: 100%; color:#fdfdfd\"> In</span></div><div style=\"display:flex;\"><span style=\"width: 100%; color:#7f7f7f\"> is</span><span style=\"width: 100%; color:#f7f7f7\"> how.</span><span style=\"width: 100%; color:#f8f8f8\"> In</span><span style=\"width: 100%; color:#fafafa\"> In</span><span style=\"width: 100%; color:#fefefe\"> this</span><span style=\"width: 100%; color:#fefefe\"> this</span></div><div style=\"display:flex;\"><span style=\"width: 100%; color:#c8c8c8\"> Rao.</span><span style=\"width: 100%; color:#f2f2f2\"> In</span><span style=\"width: 100%; color:#fefefe\"> this</span><span style=\"width: 100%; color:#fefefe\"> this</span><span style=\"width: 100%; color:#fefefe\"> example,</span><span style=\"width: 100%; color:#fefefe\"> example,</span></div><div style=\"display:flex;\"><span style=\"width: 100%; color:#e5e5e5\"> In</span><span style=\"width: 100%; color:#fefefe\"> this</span><span style=\"width: 100%; color:#fefefe\"> example,</span><span style=\"width: 100%; color:#fefefe\"> example,</span><span style=\"width: 100%; color:#aeaeae\"> tuple</span><span style=\"width: 100%; color:#a7a7a7\"> tuple</span></div><div style=\"display:flex;\"><span style=\"width: 100%; color:#fefefe\"> this</span><span style=\"width: 100%; color:#fefefe\"> example,</span><span style=\"width: 100%; color:#979797\"> tuple</span><span style=\"width: 100%; color:#b1b1b1\"> tuple</span><span style=\"width: 100%; color:#e4e4e4\"> list</span><span style=\"width: 100%; color:#e9e9e9\"> list</span></div><div style=\"display:flex;\"><span style=\"width: 100%; color:#fefefe\"> example,</span><span style=\"width: 100%; color:#3f3f3f\"> people</span><span style=\"width: 100%; color:#e1e1e1\"> list</span><span style=\"width: 100%; color:#dfdfdf\"> list</span><span style=\"width: 100%; color:#fcfcfc\"> would</span><span style=\"width: 100%; color:#fefefe\"> would</span></div><div style=\"display:flex;\"><span style=\"width: 100%; color:#3b3b3b\"> people</span><span style=\"width: 100%; color:#d3d3d3\"> list</span><span style=\"width: 100%; color:#fdfdfd\"> would</span><span style=\"width: 100%; color:#fcfcfc\"> would</span><span style=\"width: 100%; color:#fefefe\"> be</span><span style=\"width: 100%; color:#fefefe\"> be</span></div><div style=\"display:flex;\"><span style=\"width: 100%; color:#dcdcdc\"> list</span><span style=\"width: 100%; color:#fdfdfd\"> would</span><span style=\"width: 100%; color:#fefefe\"> be</span><span style=\"width: 100%; color:#fefefe\"> be</span><span style=\"width: 100%; color:#dfdfdf\"> an</span><span style=\"width: 100%; color:#e3e3e3\"> an</span></div><div style=\"display:flex;\"><span style=\"width: 100%; color:#fbfbfb\"> would</span><span style=\"width: 100%; color:#fefefe\"> be</span><span style=\"width: 100%; color:#e6e6e6\"> an</span><span style=\"width: 100%; color:#d0d0d0\"> an</span><span style=\"width: 100%; color:#d0d0d0\"> apple</span><span style=\"width: 100%; color:#e4e4e4\"> apple</span></div><div style=\"display:flex;\"><span style=\"width: 100%; color:#fefefe\"> be</span><span style=\"width: 100%; color:#d9d9d9\"> an</span><span style=\"width: 100%; color:#f6f6f6\"> apple</span><span style=\"width: 100%; color:#f6f6f6\"> apple</span><span style=\"width: 100%; color:#dddddd\"> and</span><span style=\"width: 100%; color:#e8e8e8\"> and</span></div><div style=\"display:flex;\"><span style=\"width: 100%; color:#757575\"> a</span><span style=\"width: 100%; color:#efefef\"> apple</span><span style=\"width: 100%; color:#e4e4e4\"> and</span><span style=\"width: 100%; color:#d8d8d8\"> and</span><span style=\"width: 100%; color:#fdfdfd\"> orange.</span><span style=\"width: 100%; color:#fefefe\"> orange.</span></div><div style=\"display:flex;\"><span style=\"width: 100%; color:#dadada\"> Apple</span><span style=\"width: 100%; color:#fcfcfc\"> and</span><span style=\"width: 100%; color:#fefefe\"> orange.</span><span style=\"width: 100%; color:#fdfdfd\"> orange.</span><span style=\"width: 100%; color:#f7f7f7\"> Yes,</span><span style=\"width: 100%; color:#fefefe\"> Yes,</span></div><div style=\"display:flex;\"><span style=\"width: 100%; color:#d7d7d7\"> and</span><span style=\"width: 100%; color:#fefefe\"> orange</span><span style=\"width: 100%; color:#f6f6f6\"> Yes,</span><span style=\"width: 100%; color:#f7f7f7\"> Yes,</span><span style=\"width: 100%; color:#fdfdfd\"> there</span><span style=\"width: 100%; color:#fefefe\"> there</span></div><div style=\"display:flex;\"><span style=\"width: 100%; color:#f9f9f9\"> orange.</span><span style=\"width: 100%; color:#efefef\"> Yes,</span><span style=\"width: 100%; color:#fefefe\"> there</span><span style=\"width: 100%; color:#fdfdfd\"> there</span><span style=\"width: 100%; color:#fcfcfc\"> is</span><span style=\"width: 100%; color:#fdfdfd\"> is</span></div><div style=\"display:flex;\"><span style=\"width: 100%; color:#f5f5f5\"> Yes,</span><span style=\"width: 100%; color:#fdfdfd\"> there</span><span style=\"width: 100%; color:#fdfdfd\"> is</span><span style=\"width: 100%; color:#fbfbfb\"> is</span><span style=\"width: 100%; color:#fcfcfc\"> a</span><span style=\"width: 100%; color:#fefefe\"> a</span></div><div style=\"display:flex;\"><span style=\"width: 100%; color:#fefefe\"> there</span><span style=\"width: 100%; color:#fefefe\"> is</span><span style=\"width: 100%; color:#fcfcfc\"> a</span><span style=\"width: 100%; color:#fcfcfc\"> a</span><span style=\"width: 100%; color:#fefefe\"> more</span><span style=\"width: 100%; color:#fefefe\"> more</span></div><div style=\"display:flex;\"><span style=\"width: 100%; color:#fefefe\"> is</span><span style=\"width: 100%; color:#eaeaea\"> more</span><span style=\"width: 100%; color:#fefefe\"> more</span><span style=\"width: 100%; color:#fefefe\"> more</span><span style=\"width: 100%; color:#b7b7b7\"> Pythonic</span><span style=\"width: 100%; color:#c8c8c8\"> pythonic</span></div><div style=\"display:flex;\"><span style=\"width: 100%; color:#a8a8a8\"> a</span><span style=\"width: 100%; color:#d5d5d5\"> pythonic</span><span style=\"width: 100%; color:#dfdfdf\"> pythonic</span><span style=\"width: 100%; color:#b6b6b6\"> Pythonic</span><span style=\"width: 100%; color:#fefefe\"> way</span><span style=\"width: 100%; color:#fefefe\"> way</span></div><div style=\"display:flex;\"><span style=\"width: 100%; color:#f0f0f0\"> more</span><span style=\"width: 100%; color:#fdfdfd\"> way</span><span style=\"width: 100%; color:#fefefe\"> way</span><span style=\"width: 100%; color:#fefefe\"> way</span><span style=\"width: 100%; color:#fefefe\"> to</span><span style=\"width: 100%; color:#fefefe\"> to</span></div><div style=\"display:flex;\"><span style=\"width: 100%; color:#cacaca\"> pythonic</span><span style=\"width: 100%; color:#fefefe\"> to</span><span style=\"width: 100%; color:#fefefe\"> to</span><span style=\"width: 100%; color:#fefefe\"> to</span><span style=\"width: 100%; color:#fefefe\"> help</span><span style=\"width: 100%; color:#fefefe\"> help</span></div><div style=\"display:flex;\"><span style=\"width: 100%; color:#c2c2c2\"> weight.</span><span style=\"width: 100%; color:#fefefe\"> help</span><span style=\"width: 100%; color:#fefefe\"> help</span><span style=\"width: 100%; color:#fefefe\"> help</span><span style=\"width: 100%; color:#fefefe\"> the</span><span style=\"width: 100%; color:#fefefe\"> the</span></div><div style=\"display:flex;\"><span style=\"width: 100%; color:#f5f5f5\"> to</span><span style=\"width: 100%; color:#fdfdfd\"> the</span><span style=\"width: 100%; color:#fefefe\"> the</span><span style=\"width: 100%; color:#fefefe\"> the</span><span style=\"width: 100%; color:#ebebeb\"> garbage</span><span style=\"width: 100%; color:#f5f5f5\"> garbage</span></div><div style=\"display:flex;\"><span style=\"width: 100%; color:#fefefe\"> help</span><span style=\"width: 100%; color:#fcfcfc\"> garbage</span><span style=\"width: 100%; color:#f8f8f8\"> garbage</span><span style=\"width: 100%; color:#ebebeb\"> garbage</span><span style=\"width: 100%; color:#f9f9f9\"> collector</span><span style=\"width: 100%; color:#f5f5f5\"> collector</span></div><div style=\"display:flex;\"><span style=\"width: 100%; color:#fdfdfd\"> the</span><span style=\"width: 100%; color:#e0e0e0\"> collector.</span><span style=\"width: 100%; color:#d9d9d9\"> collector.</span><span style=\"width: 100%; color:#fafafa\"> collector</span><span style=\"width: 100%; color:#f8f8f8\"> clean</span><span style=\"width: 100%; color:#f7f7f7\"> clean</span></div><div style=\"display:flex;\"><span style=\"width: 100%; color:#fdfdfd\"> garbage</span><span style=\"width: 100%; color:#cccccc\"> to</span><span style=\"width: 100%; color:#acacac\"> to</span><span style=\"width: 100%; color:#f8f8f8\"> clean</span><span style=\"width: 100%; color:#fafafa\"> up</span><span style=\"width: 100%; color:#fbfbfb\"> up</span></div><div style=\"display:flex;\"><span style=\"width: 100%; color:#7f7f7f\"> plate.</span><span style=\"width: 100%; color:#f2f2f2\"> clean</span><span style=\"width: 100%; color:#eaeaea\"> clean</span><span style=\"width: 100%; color:#fcfcfc\"> up</span><span style=\"width: 100%; color:#fcfcfc\"> unused</span><span style=\"width: 100%; color:#fefefe\"> unused</span></div><div style=\"display:flex;\"><span style=\"width: 100%; color:#9c9c9c\"> to</span><span style=\"width: 100%; color:#f9f9f9\"> up</span><span style=\"width: 100%; color:#f5f5f5\"> up</span><span style=\"width: 100%; color:#fdfdfd\"> unused</span><span style=\"width: 100%; color:#fdfdfd\"> objects.</span><span style=\"width: 100%; color:#fdfdfd\"> objects.</span></div><div style=\"display:flex;\"><span style=\"width: 100%; color:#f3f3f3\"> clean</span><span style=\"width: 100%; color:#fafafa\"> unused</span><span style=\"width: 100%; color:#fafafa\"> unused</span><span style=\"width: 100%; color:#fdfdfd\"> objects.</span><span style=\"width: 100%; color:#fcfcfc\"> The</span><span style=\"width: 100%; color:#fefefe\"> The</span></div><div style=\"display:flex;\"><span style=\"width: 100%; color:#fbfbfb\"> up</span><span style=\"width: 100%; color:#fdfdfd\"> objects.</span><span style=\"width: 100%; color:#fdfdfd\"> objects.</span><span style=\"width: 100%; color:#fbfbfb\"> The</span><span style=\"width: 100%; color:#e6e6e6\"> GC</span><span style=\"width: 100%; color:#d9d9d9\"> GC</span></div><div style=\"display:flex;\"><span style=\"width: 100%; color:#fcfcfc\"> unused</span><span style=\"width: 100%; color:#f2f2f2\"> The</span><span style=\"width: 100%; color:#f8f8f8\"> The</span><span style=\"width: 100%; color:#dcdcdc\"> GC</span><span style=\"width: 100%; color:#f8f8f8\"> module</span><span style=\"width: 100%; color:#fcfcfc\"> module</span></div><div style=\"display:flex;\"><span style=\"width: 100%; color:#aaaaaa\"> options.</span><span style=\"width: 100%; color:#aeaeae\"> GC</span><span style=\"width: 100%; color:#cacaca\"> GC</span><span style=\"width: 100%; color:#f7f7f7\"> module</span><span style=\"width: 100%; color:#f8f8f8\"> in</span><span style=\"width: 100%; color:#f7f7f7\"> in</span></div><div style=\"display:flex;\"><span style=\"width: 100%; color:#2c2c2c\"> objects,</span><span style=\"width: 100%; color:#b6b6b6\"> module.</span><span style=\"width: 100%; color:#f8f8f8\"> module</span><span style=\"width: 100%; color:#f6f6f6\"> in</span><span style=\"width: 100%; color:#fdfdfd\"> Python</span><span style=\"width: 100%; color:#fdfdfd\"> Python</span></div><div style=\"display:flex;\"><span style=\"width: 100%; color:#fcfcfc\"> the</span><span style=\"width: 100%; color:#b7b7b7\"> in</span><span style=\"width: 100%; color:#efefef\"> in</span><span style=\"width: 100%; color:#fdfdfd\"> Python</span><span style=\"width: 100%; color:#fefefe\"> provides</span><span style=\"width: 100%; color:#fefefe\"> provides</span></div><div style=\"display:flex;\"><span style=\"width: 100%; color:#9c9c9c\"> GC</span><span style=\"width: 100%; color:#f9f9f9\"> Python</span><span style=\"width: 100%; color:#fbfbfb\"> Python</span><span style=\"width: 100%; color:#fdfdfd\"> provides</span><span style=\"width: 100%; color:#fefefe\"> an</span><span style=\"width: 100%; color:#fefefe\"> an</span></div><div style=\"display:flex;\"><span style=\"width: 100%; color:#898989\"> module.</span><span style=\"width: 100%; color:#fbfbfb\"> provides</span><span style=\"width: 100%; color:#fdfdfd\"> provides</span><span style=\"width: 100%; color:#fefefe\"> an</span><span style=\"width: 100%; color:#fefefe\"> interface</span><span style=\"width: 100%; color:#fefefe\"> interface</span></div><div style=\"display:flex;\"><span style=\"width: 100%; color:#f5f5f5\"> in</span><span style=\"width: 100%; color:#fdfdfd\"> an</span><span style=\"width: 100%; color:#fefefe\"> an</span><span style=\"width: 100%; color:#fdfdfd\"> interface.</span><span style=\"width: 100%; color:#dadada\"> to</span><span style=\"width: 100%; color:#f0f0f0\"> to</span></div><div style=\"display:flex;\"><span style=\"width: 100%; color:#f5f5f5\"> Python</span><span style=\"width: 100%; color:#fdfdfd\"> interface.</span><span style=\"width: 100%; color:#fcfcfc\"> interface.</span><span style=\"width: 100%; color:#e7e7e7\"> to</span><span style=\"width: 100%; color:#fefefe\"> the</span><span style=\"width: 100%; color:#fefefe\"> the</span></div><div style=\"display:flex;\"><span style=\"width: 100%; color:#5f5f5f\"> for</span><span style=\"width: 100%; color:#646464\"> to</span><span style=\"width: 100%; color:#e5e5e5\"> to</span><span style=\"width: 100%; color:#fefefe\"> the</span><span style=\"width: 100%; color:#f6f6f6\"> garbage</span><span style=\"width: 100%; color:#fbfbfb\"> garbage.</span></div><div style=\"display:flex;\"><span style=\"width: 100%; color:#8c8c8c\"> and</span><span style=\"width: 100%; color:#fdfdfd\"> the</span><span style=\"width: 100%; color:#fefefe\"> the</span><span style=\"width: 100%; color:#efefef\"> garbage</span><span style=\"width: 100%; color:#fefefe\"> collection</span><span style=\"width: 100%; color:#e7e7e7\"> collection</span></div><div style=\"display:flex;\"><span style=\"width: 100%; color:#dfdfdf\"> interface.</span><span style=\"width: 100%; color:#f6f6f6\"> garbage</span><span style=\"width: 100%; color:#f0f0f0\"> garbage</span><span style=\"width: 100%; color:#fefefe\"> collection</span><span style=\"width: 100%; color:#fdfdfd\"> functionality</span><span style=\"width: 100%; color:#fbfbfb\"> functionality</span></div><div style=\"display:flex;\"><span style=\"width: 100%; color:#bebebe\"> to</span><span style=\"width: 100%; color:#fefefe\"> collection</span><span style=\"width: 100%; color:#fefefe\"> collection</span><span style=\"width: 100%; color:#fcfcfc\"> functionality</span><span style=\"width: 100%; color:#fdfdfd\"> built</span><span style=\"width: 100%; color:#fdfdfd\"> built</span></div><div style=\"display:flex;\"><span style=\"width: 100%; color:#fdfdfd\"> the</span><span style=\"width: 100%; color:#fafafa\"> functionality</span><span style=\"width: 100%; color:#fcfcfc\"> functionality</span><span style=\"width: 100%; color:#fdfdfd\"> built</span><span style=\"width: 100%; color:#fafafa\"> into</span><span style=\"width: 100%; color:#fcfcfc\"> into</span></div><div style=\"display:flex;\"><span style=\"width: 100%; color:#f6f6f6\"> garbage</span><span style=\"width: 100%; color:#ededed\"> built.</span><span style=\"width: 100%; color:#fdfdfd\"> built</span><span style=\"width: 100%; color:#fafafa\"> into</span><span style=\"width: 100%; color:#fefefe\"> Python.</span><span style=\"width: 100%; color:#e9e9e9\"> Python.</span></div><div style=\"display:flex;\"><span style=\"width: 100%; color:#fcfcfc\"> collection.</span><span style=\"width: 100%; color:#f8f8f8\"> into</span><span style=\"width: 100%; color:#f8f8f8\"> into</span><span style=\"width: 100%; color:#eeeeee\"> Python.</span><span style=\"width: 100%; color:#fdfdfd\"> You</span><span style=\"width: 100%; color:#fcfcfc\"> You</span></div><div style=\"display:flex;\"><span style=\"width: 100%; color:#c5c5c5\"> functionality</span><span style=\"width: 100%; color:#f6f6f6\"> Python.</span><span style=\"width: 100%; color:#f3f3f3\"> Python.</span><span style=\"width: 100%; color:#fbfbfb\"> You</span><span style=\"width: 100%; color:#fefefe\"> can</span><span style=\"width: 100%; color:#fefefe\"> can</span></div><div style=\"display:flex;\"><span style=\"width: 100%; color:#757575\"> built</span><span style=\"width: 100%; color:#fafafa\"> You</span><span style=\"width: 100%; color:#f9f9f9\"> You</span><span style=\"width: 100%; color:#fefefe\"> can</span><span style=\"width: 100%; color:#fefefe\"> manually</span><span style=\"width: 100%; color:#fefefe\"> manually</span></div><div style=\"display:flex;\"><span style=\"width: 100%; color:#fcfcfc\"> into</span><span style=\"width: 100%; color:#fefefe\"> can</span><span style=\"width: 100%; color:#fefefe\"> can</span><span style=\"width: 100%; color:#fefefe\"> manually</span><span style=\"width: 100%; color:#ebebeb\"> trigger...</span><span style=\"width: 100%; color:#d5d5d5\"> trigger...</span></div><div style=\"display:flex;\"><span style=\"width: 100%; color:#ececec\"> Python.</span><span style=\"width: 100%; color:#aeaeae\"> manual</span><span style=\"width: 100%; color:#717171\"> manually</span><span style=\"width: 100%; color:#fdfdfd\"> trigger</span><span style=\"width: 100%; color:black\"></span><span style=\"width: 100%; color:black\"></span></div><div style=\"display:flex;\"><span style=\"width: 100%; color:#bcbcbc\"> You</span><span style=\"width: 100%; color:#f5f5f5\"> trigger</span><span style=\"width: 100%; color:#f5f5f5\"> trigger</span><span style=\"width: 100%; color:black\"></span><span style=\"width: 100%; color:black\"></span><span style=\"width: 100%; color:black\"></span></div><div style=\"display:flex;\"><span style=\"width: 100%; color:#fdfdfd\"> can</span><span style=\"width: 100%; color:black\"></span><span style=\"width: 100%; color:black\"></span><span style=\"width: 100%; color:black\"></span><span style=\"width: 100%; color:black\"></span><span style=\"width: 100%; color:black\"></span></div><div style=\"display:flex;\"><span style=\"width: 100%; color:#d0d0d0\"> manual</span><span style=\"width: 100%; color:black\"></span><span style=\"width: 100%; color:black\"></span><span style=\"width: 100%; color:black\"></span><span style=\"width: 100%; color:black\"></span><span style=\"width: 100%; color:black\"></span></div><div style=\"display:flex;\"><span style=\"width: 100%; color:#f5f5f5\"> trigger</span><span style=\"width: 100%; color:black\"></span><span style=\"width: 100%; color:black\"></span><span style=\"width: 100%; color:black\"></span><span style=\"width: 100%; color:black\"></span><span style=\"width: 100%; color:black\"></span></div>"
      ],
      "text/plain": [
       "<IPython.core.display.HTML object>"
      ]
     },
     "metadata": {},
     "output_type": "display_data"
    }
   ],
   "source": [
    "unique_ints = sorted(set([key[0] for key in folder_dict.keys()]))\n",
    "\n",
    "columns = []\n",
    "\n",
    "for span in unique_ints:\n",
    "    span_list = folder_dict[(span, False)]      # only looking at the falses\n",
    "    columns.append(get_words_to_colortuple(span_list))\n",
    "\n",
    "print_colored_columns(*columns)"
   ]
  }
 ],
 "metadata": {
  "kernelspec": {
   "display_name": ".venv",
   "language": "python",
   "name": "python3"
  },
  "language_info": {
   "codemirror_mode": {
    "name": "ipython",
    "version": 3
   },
   "file_extension": ".py",
   "mimetype": "text/x-python",
   "name": "python",
   "nbconvert_exporter": "python",
   "pygments_lexer": "ipython3",
   "version": "3.11.9"
  }
 },
 "nbformat": 4,
 "nbformat_minor": 2
}
