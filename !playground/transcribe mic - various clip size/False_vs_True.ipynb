{
 "cells": [
  {
   "cell_type": "markdown",
   "metadata": {},
   "source": [
    "# Base Folder"
   ]
  },
  {
   "cell_type": "code",
   "execution_count": 107,
   "metadata": {},
   "outputs": [],
   "source": [
    "import os\n",
    "\n",
    "BASE_FOLDER = '2024-07-14 22-10-11'\n",
    "\n",
    "base_folder = os.path.join('output', BASE_FOLDER)"
   ]
  },
  {
   "cell_type": "markdown",
   "metadata": {},
   "source": [
    "### Read Files"
   ]
  },
  {
   "cell_type": "code",
   "execution_count": 108,
   "metadata": {},
   "outputs": [],
   "source": [
    "import json\n",
    "\n",
    "class Word:\n",
    "    def __init__(self, word_json, filename):\n",
    "        name, _ = os.path.splitext(os.path.basename(filename))\n",
    "\n",
    "        self.file_index = int(name)\n",
    "        self.probability = word_json['probability']\n",
    "        self.word = word_json['word']\n",
    "\n",
    "def parse_json(filename):\n",
    "    retVal = []\n",
    "\n",
    "    with open(filename, 'r') as f:\n",
    "        log = json.load(f)\n",
    "\n",
    "    for word in log['words']:\n",
    "        retVal.append(Word(word, filename))\n",
    "    \n",
    "    return retVal"
   ]
  },
  {
   "cell_type": "code",
   "execution_count": 109,
   "metadata": {},
   "outputs": [],
   "source": [
    "folder_dict = {}\n",
    "\n",
    "for span_bool in os.listdir(base_folder):\n",
    "    sb_split = span_bool.split()\n",
    "    key = (int(sb_split[0]), bool(sb_split[0]))\n",
    "    #print(str(key))\n",
    "\n",
    "    words = []\n",
    "\n",
    "    foldername = os.path.join(base_folder, span_bool)\n",
    "    for filename in os.listdir(foldername):\n",
    "        if filename.endswith('.json'):\n",
    "            words.extend(parse_json(os.path.join(foldername, filename)))\n",
    "    \n",
    "    folder_dict[key] = sorted(words, key=lambda o: o.file_index)"
   ]
  },
  {
   "cell_type": "markdown",
   "metadata": {},
   "source": [
    "### Color Printing"
   ]
  },
  {
   "cell_type": "code",
   "execution_count": 110,
   "metadata": {},
   "outputs": [
    {
     "data": {
      "text/html": [
       "<span style=\"color:#FF0000\">there</span>"
      ],
      "text/plain": [
       "<IPython.core.display.HTML object>"
      ]
     },
     "metadata": {},
     "output_type": "display_data"
    },
    {
     "data": {
      "text/html": [
       "<span style=\"color:#a50059\">calculated color</span>"
      ],
      "text/plain": [
       "<IPython.core.display.HTML object>"
      ]
     },
     "metadata": {},
     "output_type": "display_data"
    }
   ],
   "source": [
    "from IPython.display import display, HTML\n",
    "\n",
    "# fg is in the format: '#RRGGBB'.  alpha doesn't seem to be supported\n",
    "def print_colored(text, fg):\n",
    "    output = \"<span style=\\\"color:%s\\\">%s</span>\" % (fg, text)\n",
    "    display(HTML(output))\n",
    "\n",
    "# items=[(text, fg), (text, fg) ...]\n",
    "def print_colored_tuples(items):\n",
    "    output = \"\".join(\"<span style=\\\"color:%s\\\">%s</span><br>\" % (fg, text) for text, fg in items)\n",
    "    display(HTML(output))\n",
    "\n",
    "# Converts a color from hex format to rgb\n",
    "def hex_to_rgb(hex):\n",
    "    return tuple(int(hex[i:i+2], 16) for i in (0, 2, 4))\n",
    "\n",
    "# Converts a color from rgb format back to hex\n",
    "def rgb_to_hex(rgb):   \n",
    "    return '#{:02x}{:02x}{:02x}'.format(*rgb)\n",
    "\n",
    "# Linearly interpolates between two colors\n",
    "def lerp(c1, c2, pct):\n",
    "    r1, g1, b1 = hex_to_rgb(c1[1:])   # Remove '#' and convert to RGB\n",
    "    r2, g2, b2 = hex_to_rgb(c2[1:])\n",
    "    \n",
    "    r = int((r2 - r1) * pct + r1)  # Interpolate for each channel.\n",
    "    g = int((g2 - g1) * pct + g1)\n",
    "    b = int((b2 - b1) * pct + b1)\n",
    "    \n",
    "    return rgb_to_hex((r, g, b))  # Convert back to HEX and return.\n",
    "\n",
    "print_colored('there', '#FF0000')\n",
    "print_colored('calculated color', lerp('#FF0000', '#0000FF', 0.35))"
   ]
  },
  {
   "cell_type": "code",
   "execution_count": 111,
   "metadata": {},
   "outputs": [
    {
     "data": {
      "text/html": [
       "<p style=\"display:inline;\"><span style=\"color:red\">Hello</span> | <span style=\"color:blue\">Python</span></p><p style=\"display:inline;\"><span style=\"color:green\">World</span> | <span style=\"color:orange\">Development</span></p><p style=\"display:inline;\"><span style=\"color:transparent;\" title=\"None\"> </span> | <span style=\"color:purple\">Fun!</span></p>"
      ],
      "text/plain": [
       "<IPython.core.display.HTML object>"
      ]
     },
     "metadata": {},
     "output_type": "display_data"
    }
   ],
   "source": [
    "# Takes two lists of tuples, iterates both lists in a single pass\n",
    "# Replaces entries with None when the list lengths are uneven\n",
    "def zip_longest_custom(col1, col2):\n",
    "    len1 = len(col1)\n",
    "    len2 = len(col2)\n",
    "    maxlen = max(len1, len2)\n",
    "    \n",
    "    for i in range(maxlen):  # Loop through the length of the longest list.\n",
    "        val1 = col1[i] if i < len1 else None\n",
    "        val2 = col2[i] if i < len2 else None\n",
    "        \n",
    "        yield val1, val2\n",
    "\n",
    "# Each column is a list of tuples:\n",
    "# col=[(text, fg), (text, fg) ...]\n",
    "def print_colored_columns(col1, col2):\n",
    "    # Use zip_longest instead of chain for proper handling of uneven list lengths\n",
    "    combined = zip_longest_custom(col1, col2)\n",
    "\n",
    "    output = \"\"\n",
    "    for item1, item2 in combined:\n",
    "        if item1 is not None and item2 is not None:\n",
    "            text1, fg1 = item1\n",
    "            text2, fg2 = item2\n",
    "            \n",
    "            # Use a paragraph tag to separate each line of text\n",
    "            output += \"<p style=\\\"display:inline;\\\">\" + \\\n",
    "                      \"<span style=\\\"color:%s\\\">%s</span> | \" % (fg1, text1) + \\\n",
    "                      \"<span style=\\\"color:%s\\\">%s</span>\" % (fg2, text2) + \\\n",
    "                      \"</p>\"\n",
    "\n",
    "        elif item1 is not None:  # Handle the case where only col1 has an element\n",
    "            text1, fg1 = item1\n",
    "            output += \"<p style=\\\"display:inline;\\\">\" + \\\n",
    "                      \"<span style=\\\"color:%s\\\">%s</span> | \" % (fg1, text1) + \\\n",
    "                      \"<span style=\\\"color:transparent;\\\" title=\\\"None\\\"> </span>\" + \\\n",
    "                      \"</p>\"\n",
    "\n",
    "        elif item2 is not None:  # Handle the case where only col2 has an element\n",
    "            text2, fg2 = item2\n",
    "            output += \"<p style=\\\"display:inline;\\\"><span style=\\\"color:transparent;\\\" title=\\\"None\\\"> </span> | \" + \\\n",
    "                      \"<span style=\\\"color:%s\\\">%s</span>\" % (fg2, text2) + \\\n",
    "                      \"</p>\"\n",
    "    \n",
    "    display(HTML(output))\n",
    "\n",
    "col1 = [(\"Hello\", \"red\"), (\"World\", \"green\")]\n",
    "col2 = [(\"Python\", \"blue\"), (\"Development\", \"orange\"), (\"Fun!\", \"purple\")]\n",
    "print_colored_columns(col1, col2)"
   ]
  },
  {
   "cell_type": "markdown",
   "metadata": {},
   "source": [
    "The above function tries to draw in two columns, but just makes a single line\n",
    "\n",
    "Replace the html with this multi column version"
   ]
  },
  {
   "cell_type": "code",
   "execution_count": 112,
   "metadata": {},
   "outputs": [
    {
     "data": {
      "text/html": [
       "\n",
       "<div style=\"display:flex;\">\n",
       "    <div style=\"width: 100%;\">Column 1 Content Here</div>\n",
       "    <div style=\"width: 100%;\">Column 2 Content Here</div>\n",
       "    <div style=\"width: 100%;\">Column 3 Content Here</div>\n",
       "</div>\n"
      ],
      "text/plain": [
       "<IPython.core.display.HTML object>"
      ]
     },
     "metadata": {},
     "output_type": "display_data"
    }
   ],
   "source": [
    "from ipywidgets import VBox\n",
    "\n",
    "html_column1 = \"\"\"<div style=\"width: 100%;\">Column 1 Content Here</div>\"\"\"\n",
    "html_column2 = \"\"\"<div style=\"width: 100%;\">Column 2 Content Here</div>\"\"\"\n",
    "html_column3 = \"\"\"<div style=\"width: 100%;\">Column 3 Content Here</div>\"\"\"\n",
    "\n",
    "combined_html = f\"\"\"\n",
    "<div style=\"display:flex;\">\n",
    "    {html_column1}\n",
    "    {html_column2}\n",
    "    {html_column3}\n",
    "</div>\n",
    "\"\"\"\n",
    "\n",
    "display(HTML(combined_html))"
   ]
  }
 ],
 "metadata": {
  "kernelspec": {
   "display_name": ".venv",
   "language": "python",
   "name": "python3"
  },
  "language_info": {
   "codemirror_mode": {
    "name": "ipython",
    "version": 3
   },
   "file_extension": ".py",
   "mimetype": "text/x-python",
   "name": "python",
   "nbconvert_exporter": "python",
   "pygments_lexer": "ipython3",
   "version": "3.11.9"
  }
 },
 "nbformat": 4,
 "nbformat_minor": 2
}
