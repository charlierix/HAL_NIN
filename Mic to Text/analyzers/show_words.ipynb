{
 "cells": [
  {
   "cell_type": "markdown",
   "metadata": {},
   "source": [
    "### Read JSON"
   ]
  },
  {
   "cell_type": "code",
   "execution_count": 65,
   "metadata": {},
   "outputs": [],
   "source": [
    "import json\n",
    "\n",
    "with open('../logs/2024-07-04 11-21-07/words.json', 'r') as f:\n",
    "    log = json.load(f)"
   ]
  },
  {
   "cell_type": "markdown",
   "metadata": {},
   "source": [
    "### Convert to objects"
   ]
  },
  {
   "cell_type": "code",
   "execution_count": 66,
   "metadata": {},
   "outputs": [],
   "source": [
    "import datetime\n",
    "\n",
    "DATE_FORMAT = \"%Y-%m-%d %H:%M:%S.%f%z\"\n",
    "\n",
    "class Word:\n",
    "    def __init__(self, word_json):\n",
    "        self.clip_time_start = datetime.datetime.strptime(word_json['clip_time_start'], DATE_FORMAT)\n",
    "        self.clip_time_stop = datetime.datetime.strptime(word_json['clip_time_stop'], DATE_FORMAT)\n",
    "        self.transcribe_start = datetime.datetime.strptime(word_json['transcribe_start'], DATE_FORMAT)\n",
    "        self.transcribe_stop = datetime.datetime.strptime(word_json['transcribe_stop'], DATE_FORMAT)\n",
    "        self.word_start = datetime.datetime.strptime(word_json['word_start'], DATE_FORMAT)\n",
    "        self.word_stop = datetime.datetime.strptime(word_json['word_stop'], DATE_FORMAT)\n",
    "        self.word_probability = word_json['word_probability']\n",
    "        self.word = word_json['word']\n",
    "\n",
    "all_words = []\n",
    "\n",
    "for word in log['words']:\n",
    "    all_words.append(Word(word))"
   ]
  },
  {
   "cell_type": "markdown",
   "metadata": {},
   "source": [
    "### Color Printing"
   ]
  },
  {
   "cell_type": "code",
   "execution_count": null,
   "metadata": {},
   "outputs": [],
   "source": [
    "from IPython.display import display, HTML\n",
    "\n",
    "# fg is in the format: '#RRGGBB'.  alpha doesn't seem to be supported\n",
    "def print_colored(text, fg):\n",
    "    output = \"<span style=\\\"color:%s\\\">%s</span>\" % (fg, text)\n",
    "    display(HTML(output))\n",
    "\n",
    "# items=[(text, fg), (text, fg) ...]\n",
    "def print_colored_tuples(items):\n",
    "    output = \"\".join(\"<span style=\\\"color:%s\\\">%s</span><br>\" % (fg, text) for text, fg in items)\n",
    "    display(HTML(output))\n",
    "\n",
    "# Converts a color from hex format to rgb\n",
    "def hex_to_rgb(hex):\n",
    "    return tuple(int(hex[i:i+2], 16) for i in (0, 2, 4))\n",
    "\n",
    "# Converts a color from rgb format back to hex\n",
    "def rgb_to_hex(rgb):   \n",
    "    return '#{:02x}{:02x}{:02x}'.format(*rgb)\n",
    "\n",
    "# Linearly interpolates between two colors\n",
    "def lerp(c1, c2, pct):\n",
    "    r1, g1, b1 = hex_to_rgb(c1[1:])   # Remove '#' and convert to RGB\n",
    "    r2, g2, b2 = hex_to_rgb(c2[1:])\n",
    "    \n",
    "    r = int((r2 - r1) * pct + r1)  # Interpolate for each channel.\n",
    "    g = int((g2 - g1) * pct + g1)\n",
    "    b = int((b2 - b1) * pct + b1)\n",
    "    \n",
    "    return rgb_to_hex((r, g, b))  # Convert back to HEX and return.\n",
    "\n",
    "print_colored('there', '#FF0000')\n",
    "print_colored('calculated color', lerp('#FF0000', '#0000FF', 0.35))"
   ]
  },
  {
   "cell_type": "markdown",
   "metadata": {},
   "source": [
    "### All Words"
   ]
  },
  {
   "cell_type": "code",
   "execution_count": 68,
   "metadata": {},
   "outputs": [],
   "source": [
    "def two_column_text(word, prob):\n",
    "    return '%s&nbsp;&nbsp;&nbsp;&nbsp;&nbsp;&nbsp;&nbsp;&nbsp;&nbsp;&nbsp;&nbsp;&nbsp;&nbsp;&nbsp;&nbsp;&nbsp;&nbsp;&nbsp;&nbsp;&nbsp;&nbsp;&nbsp;&nbsp;&nbsp;&nbsp;&nbsp;&nbsp;&nbsp;&nbsp;&nbsp;&nbsp;&nbsp;&nbsp;&nbsp;&nbsp;%s' % (word, str(int(round(prob, 0))))\n",
    "\n",
    "def print_words_colored(words):\n",
    "    items = []\n",
    "    for word in words:\n",
    "        word_percent = two_column_text(word.word, word.word_probability * 100)\n",
    "        items.append((word_percent, lerp('#000000', '#FFFFFF', word.word_probability)))\n",
    "    print_colored_tuples(items)"
   ]
  },
  {
   "cell_type": "code",
   "execution_count": null,
   "metadata": {},
   "outputs": [],
   "source": [
    "print_words_colored(all_words)"
   ]
  }
 ],
 "metadata": {
  "kernelspec": {
   "display_name": ".venv",
   "language": "python",
   "name": "python3"
  },
  "language_info": {
   "codemirror_mode": {
    "name": "ipython",
    "version": 3
   },
   "file_extension": ".py",
   "mimetype": "text/x-python",
   "name": "python",
   "nbconvert_exporter": "python",
   "pygments_lexer": "ipython3",
   "version": "3.11.9"
  }
 },
 "nbformat": 4,
 "nbformat_minor": 2
}
